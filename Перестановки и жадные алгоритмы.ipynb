{
 "cells": [
  {
   "cell_type": "markdown",
   "id": "386d70b8-2285-4f5d-94b2-7c30906d9c90",
   "metadata": {},
   "source": [
    "## Алгоритмы для перебора числа перестановок"
   ]
  },
  {
   "cell_type": "code",
   "execution_count": 5,
   "id": "f967eea0-fbb2-4662-bc86-919166fdec23",
   "metadata": {},
   "outputs": [],
   "source": [
    "def factorial(n):\n",
    "    a = 1\n",
    "    for i in range (1, n+1):\n",
    "        a *= i\n",
    "    return a"
   ]
  },
  {
   "cell_type": "code",
   "execution_count": 6,
   "id": "7bba21ba-54c2-42d7-9123-e75938f6a3e7",
   "metadata": {},
   "outputs": [],
   "source": [
    "def C_n_k(n, k):\n",
    "    return factorial(n)/(factorial(k)*factorial(n-k))"
   ]
  },
  {
   "cell_type": "code",
   "execution_count": 7,
   "id": "b8663a29-4ead-424f-a12f-28acf819b284",
   "metadata": {},
   "outputs": [
    {
     "name": "stdout",
     "output_type": "stream",
     "text": [
      "[1, 2, 3, 3]\n",
      "[2, 1, 3, 3]\n",
      "[3, 1, 2, 3]\n",
      "[1, 3, 2, 3]\n",
      "[2, 3, 1, 3]\n",
      "[3, 2, 1, 3]\n",
      "[3, 2, 3, 1]\n",
      "[2, 3, 3, 1]\n",
      "[3, 3, 2, 1]\n",
      "[3, 3, 2, 1]\n",
      "[2, 3, 3, 1]\n",
      "[3, 2, 3, 1]\n",
      "[3, 1, 3, 2]\n",
      "[1, 3, 3, 2]\n",
      "[3, 3, 1, 2]\n",
      "[3, 3, 1, 2]\n",
      "[1, 3, 3, 2]\n",
      "[3, 1, 3, 2]\n",
      "[3, 1, 2, 3]\n",
      "[1, 3, 2, 3]\n",
      "[2, 3, 1, 3]\n",
      "[3, 2, 1, 3]\n",
      "[1, 2, 3, 3]\n",
      "[2, 1, 3, 3]\n"
     ]
    }
   ],
   "source": [
    "# Рекурсивный Алгоритм Хиппа\n",
    "\n",
    "def heaps_algorithm(n, array, result):\n",
    "# Базовый случай: если n равно 1, добавляем текущую перестановку в результат\n",
    "    if n == 1:\n",
    "        result.append(array.copy())\n",
    "        return\n",
    "    for i in range(n):\n",
    "        heaps_algorithm(n - 1, array, result)\n",
    "        # Если n четное, меняем первый и последний элемент\n",
    "        # Если n нечетное, меняем i-й и последний элемент\n",
    "        if n % 2 == 0:\n",
    "            array[i], array[n - 1] = array[n - 1], array[i] \n",
    "        else:\n",
    "            array[0], array[n - 1] = array[n - 1], array[0]\n",
    "\n",
    "# Пример использования\n",
    "numbers = [1, 2, 3, 3]\n",
    "result = []\n",
    "heaps_algorithm(len(numbers), numbers, result)\n",
    "\n",
    "# Вывод всех перестановок\n",
    "for perm in result:\n",
    "    print(perm)"
   ]
  },
  {
   "cell_type": "code",
   "execution_count": 3,
   "id": "5b31ae22-ae72-4cb4-820a-86c655ffc777",
   "metadata": {},
   "outputs": [
    {
     "name": "stdout",
     "output_type": "stream",
     "text": [
      "[1, 2, 3, 3, 3]\n",
      "[1, 3, 2, 3, 3]\n",
      "[1, 3, 3, 2, 3]\n",
      "[1, 3, 3, 3, 2]\n",
      "[2, 1, 3, 3, 3]\n",
      "[2, 3, 1, 3, 3]\n",
      "[2, 3, 3, 1, 3]\n",
      "[2, 3, 3, 3, 1]\n",
      "[3, 1, 2, 3, 3]\n",
      "[3, 1, 3, 2, 3]\n",
      "[3, 1, 3, 3, 2]\n",
      "[3, 2, 1, 3, 3]\n",
      "[3, 2, 3, 1, 3]\n",
      "[3, 2, 3, 3, 1]\n",
      "[3, 3, 1, 2, 3]\n",
      "[3, 3, 1, 3, 2]\n",
      "[3, 3, 2, 1, 3]\n",
      "[3, 3, 2, 3, 1]\n",
      "[3, 3, 3, 1, 2]\n",
      "[3, 3, 3, 2, 1]\n"
     ]
    }
   ],
   "source": [
    "def next_permutation(arr):\n",
    "    # Шаг 1: Находим первую позицию, где порядок нарушается\n",
    "    i = len(arr) - 2\n",
    "    while i >= 0 and arr[i] >= arr[i + 1]:\n",
    "        i -= 1\n",
    "    if i == -1:\n",
    "        return False  # Это была последняя перестановка\n",
    "\n",
    "    # Шаг 2: Находим элемент, который больше, чем arr[i]\n",
    "    j = len(arr) - 1\n",
    "    while arr[j] <= arr[i]:\n",
    "        j -= 1\n",
    "\n",
    "    # Шаг 3: Меняем местами arr[i] и arr[j]\n",
    "    arr[i], arr[j] = arr[j], arr[i]\n",
    "\n",
    "    # Шаг 4: Переворачиваем часть массива справа от позиции i\n",
    "    arr[i + 1:] = reversed(arr[i + 1:])\n",
    "    return True\n",
    "\n",
    "# Пример использования\n",
    "arr = [1, 2, 3,3,3]  # Начальная перестановка\n",
    "\n",
    "# Генерация всех перестановок\n",
    "while True:\n",
    "    print(arr)\n",
    "    if not next_permutation(arr):\n",
    "        break\n"
   ]
  },
  {
   "cell_type": "markdown",
   "id": "bb071883-f0a7-4926-b720-c090ea3ca55d",
   "metadata": {},
   "source": [
    "# Жадные алгоритмы"
   ]
  },
  {
   "cell_type": "markdown",
   "id": "f6de21ee-7e19-46f3-8f20-428d85d6cf67",
   "metadata": {},
   "source": [
    "### Задача 1\n",
    "Принимаем на вход отрезки. Задача - найти наибольшее количество непересекающихся. \n",
    "Иная постановка - задача о переговорке"
   ]
  },
  {
   "cell_type": "code",
   "execution_count": 20,
   "id": "e1895a42-2a16-4471-b218-9cfc2387ac5a",
   "metadata": {},
   "outputs": [
    {
     "name": "stdout",
     "output_type": "stream",
     "text": [
      "[[1, 2], [3, 6]]\n"
     ]
    }
   ],
   "source": [
    "arr = [[3,7],[2,9],[1,2],[2,3],[1,4],[3,6],[2,5],[2,4],[5,6]]\n",
    "otv = []\n",
    "while(len(arr)>0):\n",
    "    m = arr[0][1]\n",
    "    rem = 0\n",
    "    for i in range(len(arr)):\n",
    "        if arr[i][1] < m:\n",
    "            m = arr[i][1]\n",
    "            rem = i\n",
    "    hor = arr[rem]\n",
    "    arr.pop(rem)\n",
    "    otv.append(hor)\n",
    "    i = 0\n",
    "    while(i < len(arr)):\n",
    "        if (arr[i][0] >= hor[0] and arr[i][0] <= hor[1]) or (arr[i][1] <= hor[1] and arr[i][0] >= hor[0]):\n",
    "            arr.pop(i)\n",
    "        else:\n",
    "            i += 1\n",
    "print(otv)"
   ]
  },
  {
   "cell_type": "markdown",
   "id": "07e107d9-6642-4504-afa4-c190e230fc07",
   "metadata": {},
   "source": [
    "### Задача 2\n",
    "Имеется рюкзак с некоторой вместимостью, и сыпучие материалы с некоторыми массами и ценностями. Нужно набить рюкзак так, чтобы ценность собранного была максимальной"
   ]
  },
  {
   "cell_type": "code",
   "execution_count": 46,
   "id": "fc7b4426-0f4c-4bc8-9f33-c6b369a3c028",
   "metadata": {},
   "outputs": [
    {
     "name": "stdin",
     "output_type": "stream",
     "text": [
      " 11\n"
     ]
    },
    {
     "data": {
      "text/plain": [
       "2000.0"
      ]
     },
     "execution_count": 46,
     "metadata": {},
     "output_type": "execute_result"
    }
   ],
   "source": [
    "bag = [[1,1000],[20,500],[10,90],[2,800]]\n",
    "w = int(input())\n",
    "for i in range(len(bag)):\n",
    "    bag[i][1] = bag[i][1]/bag[i][0]\n",
    "bag = sorted(bag, key=lambda x: x[1],reverse = True)\n",
    "i = 0\n",
    "weight = 0\n",
    "s = 0\n",
    "while(weight<w and i < len(bag)):\n",
    "    weight += bag[i][0]\n",
    "    s += bag[i][0] * bag[i][1]\n",
    "    i += 1\n",
    "if weight > w:\n",
    "    s = s + (w-weight)*bag[i-1][1]\n",
    "s"
   ]
  },
  {
   "cell_type": "code",
   "execution_count": 39,
   "id": "ab53ba66-d8b8-4649-9060-8f6fed584b72",
   "metadata": {},
   "outputs": [
    {
     "name": "stdin",
     "output_type": "stream",
     "text": [
      "Введите максимальный вес рюкзака:  11\n"
     ]
    },
    {
     "name": "stdout",
     "output_type": "stream",
     "text": [
      "Максимальная ценность, которую можно положить в рюкзак: 2000.0\n"
     ]
    }
   ],
   "source": [
    "# Исходные данные\n",
    "bag = [[1, 1000], [20, 500], [10, 90], [2, 800]]\n",
    "\n",
    "# Ввод максимального веса рюкзака\n",
    "w = int(input(\"Введите максимальный вес рюкзака: \"))\n",
    "\n",
    "# Вычисляем ценность за единицу веса\n",
    "for i in range(len(bag)):\n",
    "    bag[i][1] = bag[i][1] / bag[i][0]\n",
    "\n",
    "# Сортируем по ценности за единицу веса (в порядке убывания)\n",
    "bag = sorted(bag, key=lambda x: x[1], reverse=True)\n",
    "\n",
    "weight = 0  # Текущий вес рюкзака\n",
    "s = 0       # Общая ценность\n",
    "\n",
    "for i in range(len(bag)):\n",
    "    if weight + bag[i][0] <= w:  # Если можно взять весь предмет\n",
    "        weight += bag[i][0]\n",
    "        s += bag[i][0] * bag[i][1]  # Добавляем полную ценность\n",
    "    else:  # Если не хватает места для всего предмета\n",
    "        remaining_weight = w - weight\n",
    "        s += remaining_weight * bag[i][1]  # Добавляем ценность за оставшийся вес\n",
    "        break  # Завершаем, так как рюкзак полон\n",
    "\n",
    "print(f\"Максимальная ценность, которую можно положить в рюкзак: {s}\")\n"
   ]
  },
  {
   "cell_type": "code",
   "execution_count": null,
   "id": "75b553bd-91d5-49d1-9c97-debc65cfc2b9",
   "metadata": {},
   "outputs": [],
   "source": []
  }
 ],
 "metadata": {
  "kernelspec": {
   "display_name": "Python 3 (ipykernel)",
   "language": "python",
   "name": "python3"
  },
  "language_info": {
   "codemirror_mode": {
    "name": "ipython",
    "version": 3
   },
   "file_extension": ".py",
   "mimetype": "text/x-python",
   "name": "python",
   "nbconvert_exporter": "python",
   "pygments_lexer": "ipython3",
   "version": "3.13.0"
  }
 },
 "nbformat": 4,
 "nbformat_minor": 5
}
